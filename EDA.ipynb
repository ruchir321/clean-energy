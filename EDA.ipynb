{
 "cells": [
  {
   "cell_type": "markdown",
   "id": "ffe39e8c",
   "metadata": {},
   "source": [
    "# EDA Clean energy"
   ]
  },
  {
   "cell_type": "code",
   "execution_count": 2,
   "id": "cf4e4921",
   "metadata": {},
   "outputs": [],
   "source": [
    "import pandas as pd"
   ]
  },
  {
   "cell_type": "code",
   "execution_count": 3,
   "id": "d1a958e7",
   "metadata": {},
   "outputs": [],
   "source": [
    "df = pd.read_csv(\"ELEC-C_20251021-194145.csv\")"
   ]
  },
  {
   "cell_type": "code",
   "execution_count": 4,
   "id": "b8883ab4",
   "metadata": {},
   "outputs": [
    {
     "data": {
      "text/html": [
       "<div>\n",
       "<style scoped>\n",
       "    .dataframe tbody tr th:only-of-type {\n",
       "        vertical-align: middle;\n",
       "    }\n",
       "\n",
       "    .dataframe tbody tr th {\n",
       "        vertical-align: top;\n",
       "    }\n",
       "\n",
       "    .dataframe thead th {\n",
       "        text-align: right;\n",
       "    }\n",
       "</style>\n",
       "<table border=\"1\" class=\"dataframe\">\n",
       "  <thead>\n",
       "    <tr style=\"text-align: right;\">\n",
       "      <th></th>\n",
       "      <th></th>\n",
       "      <th></th>\n",
       "      <th></th>\n",
       "      <th></th>\n",
       "      <th>Electricity statistics by Country/area, Technology, Data Type, Grid connection and Year</th>\n",
       "    </tr>\n",
       "  </thead>\n",
       "  <tbody>\n",
       "    <tr>\n",
       "      <th>Country/area</th>\n",
       "      <th>Technology</th>\n",
       "      <th>Data Type</th>\n",
       "      <th>Grid connection</th>\n",
       "      <th>Year</th>\n",
       "      <td>Electricity statistics</td>\n",
       "    </tr>\n",
       "    <tr>\n",
       "      <th rowspan=\"4\" valign=\"top\">Canada</th>\n",
       "      <th rowspan=\"4\" valign=\"top\">Total renewable</th>\n",
       "      <th rowspan=\"4\" valign=\"top\">Electricity Installed Capacity (MW)</th>\n",
       "      <th rowspan=\"4\" valign=\"top\">All</th>\n",
       "      <th>2015</th>\n",
       "      <td>95160.00</td>\n",
       "    </tr>\n",
       "    <tr>\n",
       "      <th>2016</th>\n",
       "      <td>96997.50</td>\n",
       "    </tr>\n",
       "    <tr>\n",
       "      <th>2017</th>\n",
       "      <td>98149.00</td>\n",
       "    </tr>\n",
       "    <tr>\n",
       "      <th>2018</th>\n",
       "      <td>99591.50</td>\n",
       "    </tr>\n",
       "  </tbody>\n",
       "</table>\n",
       "</div>"
      ],
      "text/plain": [
       "                                                                                      Electricity statistics by Country/area, Technology, Data Type, Grid connection and Year\n",
       "Country/area Technology      Data Type                           Grid connection Year                             Electricity statistics                                     \n",
       "Canada       Total renewable Electricity Installed Capacity (MW) All             2015                                           95160.00                                     \n",
       "                                                                                 2016                                           96997.50                                     \n",
       "                                                                                 2017                                           98149.00                                     \n",
       "                                                                                 2018                                           99591.50                                     "
      ]
     },
     "execution_count": 4,
     "metadata": {},
     "output_type": "execute_result"
    }
   ],
   "source": [
    "df.head()"
   ]
  },
  {
   "cell_type": "code",
   "execution_count": null,
   "id": "f7a53f09",
   "metadata": {},
   "outputs": [],
   "source": []
  },
  {
   "cell_type": "code",
   "execution_count": null,
   "id": "2ffe8737",
   "metadata": {},
   "outputs": [],
   "source": []
  },
  {
   "cell_type": "code",
   "execution_count": null,
   "id": "0113456d",
   "metadata": {},
   "outputs": [],
   "source": []
  }
 ],
 "metadata": {
  "kernelspec": {
   "display_name": "DS",
   "language": "python",
   "name": "python3"
  },
  "language_info": {
   "codemirror_mode": {
    "name": "ipython",
    "version": 3
   },
   "file_extension": ".py",
   "mimetype": "text/x-python",
   "name": "python",
   "nbconvert_exporter": "python",
   "pygments_lexer": "ipython3",
   "version": "3.12.12"
  }
 },
 "nbformat": 4,
 "nbformat_minor": 5
}
