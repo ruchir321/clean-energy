{
 "cells": [
  {
   "cell_type": "markdown",
   "id": "ffe39e8c",
   "metadata": {},
   "source": [
    "# EDA Clean energy"
   ]
  }
 ],
 "metadata": {
  "language_info": {
   "name": "python"
  }
 },
 "nbformat": 4,
 "nbformat_minor": 5
}
